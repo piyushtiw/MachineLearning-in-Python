{
 "cells": [
  {
   "cell_type": "code",
   "execution_count": 38,
   "metadata": {},
   "outputs": [
    {
     "name": "stdout",
     "output_type": "stream",
     "text": [
      "DONE\n"
     ]
    }
   ],
   "source": [
    "import pandas as pd\n",
    "import numpy as np\n",
    "import matplotlib.pyplot as plt\n",
    "from sklearn.model_selection import train_test_split\n",
    "from sklearn.datasets import load_boston\n",
    "print(\"DONE\")"
   ]
  },
  {
   "cell_type": "code",
   "execution_count": 39,
   "metadata": {
    "collapsed": true
   },
   "outputs": [],
   "source": [
    "def load_data():\n",
    "    boston_data=pd.DataFrame(load_boston().data,columns=load_boston().feature_names)\n",
    "    Y=load_boston().target\n",
    "    X=load_boston().data\n",
    "    x_train,x_test,y_train,y_test=train_test_split(X,Y,test_size=0.3)\n",
    "\n",
    "    print(\"X Shape: \",X.shape)\n",
    "    print(\"Y Shape: \",Y.shape)\n",
    "    print(\"X_Train Shape: \",x_train.shape)\n",
    "    print(\"X_Test Shape: \",x_test.shape)\n",
    "    print(\"Y_Train Shape: \",y_train.shape)\n",
    "    print(\"Y_Test Shape: \",y_test.shape)\n",
    "    return x_train,x_test,y_train,y_test"
   ]
  },
  {
   "cell_type": "code",
   "execution_count": 9,
   "metadata": {
    "collapsed": true
   },
   "outputs": [],
   "source": []
  },
  {
   "cell_type": "code",
   "execution_count": 13,
   "metadata": {
    "collapsed": true
   },
   "outputs": [],
   "source": [
    "def stochastic_gradient_descent_runner(vector_x, y, starting_b, starting_m, learning_rate, num_iterations):\n",
    "    b = starting_b\n",
    "    m = starting_m\n",
    "    w=np.zeros(shape=(1,train_data.shape[1]-1))\n",
    "    print(w.shape)\n",
    "    return [b, m]"
   ]
  },
  {
   "cell_type": "code",
   "execution_count": 40,
   "metadata": {
    "collapsed": true
   },
   "outputs": [],
   "source": [
    "def run():\n",
    "    x_train,x_test,y_train,y_test = load_data()"
   ]
  },
  {
   "cell_type": "code",
   "execution_count": 41,
   "metadata": {},
   "outputs": [
    {
     "name": "stdout",
     "output_type": "stream",
     "text": [
      "X Shape:  (506, 13)\n",
      "Y Shape:  (506,)\n",
      "X_Train Shape:  (354, 13)\n",
      "X_Test Shape:  (152, 13)\n",
      "Y_Train Shape:  (354,)\n",
      "Y_Test Shape:  (152,)\n"
     ]
    }
   ],
   "source": [
    "if __name__ == '__main__':\n",
    "    run()"
   ]
  },
  {
   "cell_type": "code",
   "execution_count": null,
   "metadata": {
    "collapsed": true
   },
   "outputs": [],
   "source": []
  }
 ],
 "metadata": {
  "kernelspec": {
   "display_name": "Python 3",
   "language": "python",
   "name": "python3"
  },
  "language_info": {
   "codemirror_mode": {
    "name": "ipython",
    "version": 3
   },
   "file_extension": ".py",
   "mimetype": "text/x-python",
   "name": "python",
   "nbconvert_exporter": "python",
   "pygments_lexer": "ipython3",
   "version": "3.7.4"
  }
 },
 "nbformat": 4,
 "nbformat_minor": 2
}
