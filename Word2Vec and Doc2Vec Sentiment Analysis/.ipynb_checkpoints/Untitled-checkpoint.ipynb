{
 "cells": [
  {
   "cell_type": "code",
   "execution_count": 2,
   "metadata": {},
   "outputs": [],
   "source": [
    "import sys\n",
    "import collections\n",
    "import sklearn.naive_bayes\n",
    "import sklearn.linear_model\n",
    "import nltk\n",
    "import random\n",
    "import _pickle as pickle\n",
    "random.seed(0)\n",
    "from numpy import zeros, empty, isnan, random, uint32, float32 as REAL, vstack\n",
    "from gensim.models.doc2vec import Doc2Vec,TaggedDocument\n",
    "from gensim.models.deprecated.doc2vec import TaggedDocument\n",
    "from gensim_models import word2vec\n",
    "from gensim_models import doc2vec_modified\n",
    "from gensim_models.doc2vec_modified import Doc2Vec\n",
    "#nltk.download(\"stopwords\")          # Download the stop words from nltk\n",
    "\n",
    "import time"
   ]
  },
  {
   "cell_type": "code",
   "execution_count": null,
   "metadata": {
    "collapsed": true
   },
   "outputs": [],
   "source": []
  }
 ],
 "metadata": {
  "kernelspec": {
   "display_name": "Python 3",
   "language": "python",
   "name": "python3"
  },
  "language_info": {
   "codemirror_mode": {
    "name": "ipython",
    "version": 3
   },
   "file_extension": ".py",
   "mimetype": "text/x-python",
   "name": "python",
   "nbconvert_exporter": "python",
   "pygments_lexer": "ipython3",
   "version": "3.7.4"
  }
 },
 "nbformat": 4,
 "nbformat_minor": 2
}
